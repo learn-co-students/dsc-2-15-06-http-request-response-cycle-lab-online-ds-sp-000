{
 "cells": [
  {
   "cell_type": "markdown",
   "metadata": {},
   "source": [
    "# HTTP Request/Response Cycle - Lab\n",
    "\n",
    "## Introduction \n",
    "\n",
    "In this lab, we shall make use of the `requests` module commands and properties seen in the previous lesson, to extract information for a web service called **\"Open Notify\"** to access NASA's space data. \n",
    "\n",
    "## Objectives\n",
    "\n",
    "You will be able to:\n",
    "\n",
    "* Understand and explain the HTTP Request/Response cycle\n",
    "* Make http requests in Python using the ‘requests’ library"
   ]
  },
  {
   "cell_type": "markdown",
   "metadata": {},
   "source": [
    "## Open Notify \n",
    "\n",
    "[Open Notify](http://open-notify.org/)  is an an open source project to provide a simple programming interface for some of NASA’s awesome data. This takes live raw data from NASA's systems and turn them into APIs related to space and spacecraft. We can access following information from open notify. \n",
    "\n",
    "* Current Location of the International Space Station\n",
    "\n",
    "    * (The ISS is currently over 22.014° N, -101.057° E)\n",
    "\n",
    "* Overhead Pass Predictions for the International Space Station\n",
    "\n",
    "* Number of People in Space\n",
    "\n",
    "    * (There are currently 3 humans in space)\n",
    "    \n",
    "### API endpoints\n",
    "\n",
    "OpenNotify has several API endpoints. \n",
    ">An endpoint is a server route that is used to retrieve different data from the API. \n",
    "\n",
    "For example, the `/comments` endpoint on the Reddit API might retrieve information about comments, whereas the `/users` endpoint might retrieve data about users. To access them, you would add the endpoint to the base url of the API.\n",
    "\n",
    "For the OpenNotify API, we have following end points \n",
    "\n",
    "1. Current Location of the International Space Station `/iss-now.json`\n",
    "2. Overhead Pass Predictions for the International Space Station `/iss-pass.json`    \n",
    "3. Number of People in Space `/astros.json`\n",
    "\n",
    "The json extension simple tells us that the data is being returned in a JSON format.\n",
    "\n",
    "In this lab, we'll be querying a this API to retrieve live data about the International Space Station (ISS). Details on OpenNofity , endpoints, syntax and services it offers can be viewed [Here](http://open-notify.org/Open-Notify-API/)\n",
    "\n",
    "![](iss.jpg)\n",
    "\n"
   ]
  },
  {
   "cell_type": "markdown",
   "metadata": {},
   "source": [
    "### Current location of International Space Station\n",
    "\n",
    "The first endpoint we'll look at on OpenNotify is the` iss-now.json` endpoint (current location of international space station). This endpoint gets the current latitude and longitude of the International Space Station.  Perform following tasks \n",
    "* Make a get request to get the latest position of the international space station from the opennotify api's iss_now endpoint at http://api.open-notify.org/iss-now.json\n",
    "* Check the status code of the response\n",
    "* Interpret the returned code"
   ]
  },
  {
   "cell_type": "code",
   "execution_count": 1,
   "metadata": {},
   "outputs": [
    {
     "name": "stdout",
     "output_type": "stream",
     "text": [
      "<Response [200]>\n",
      "{'iss_position': {'longitude': '40.6937', 'latitude': '35.8360'}, 'timestamp': 1548087210, 'message': 'success'}\n"
     ]
    }
   ],
   "source": [
    "# You Code Here\n",
    "import requests\n",
    "\n",
    "r = requests.get('http://api.open-notify.org/iss-now.json')\n",
    "response = r.json()\n",
    "\n",
    "print(r)\n",
    "print(response)"
   ]
  },
  {
   "cell_type": "code",
   "execution_count": 2,
   "metadata": {},
   "outputs": [],
   "source": [
    "# Your comments "
   ]
  },
  {
   "cell_type": "markdown",
   "metadata": {},
   "source": [
    "* Print the contents of the response and identify its current location"
   ]
  },
  {
   "cell_type": "code",
   "execution_count": 3,
   "metadata": {},
   "outputs": [
    {
     "name": "stdout",
     "output_type": "stream",
     "text": [
      "iss_position <class 'dict'>\n",
      "timestamp <class 'int'>\n",
      "message <class 'str'>\n"
     ]
    }
   ],
   "source": [
    "for key in response:\n",
    "    print(key, type(response[key]))"
   ]
  },
  {
   "cell_type": "code",
   "execution_count": 4,
   "metadata": {},
   "outputs": [
    {
     "name": "stdout",
     "output_type": "stream",
     "text": [
      "Longitude: 40.6937\n",
      "Latitude: 35.8360\n",
      "Timestamp: 01-21-2019 16:13:30\n",
      "Message: success\n"
     ]
    }
   ],
   "source": [
    "def print_response(response):\n",
    "# This function will iterate through the keys of the response and print the flattened results\n",
    "    for key in response:\n",
    "        \n",
    "        # If the value of the key is not a list or dictionary, print the key/value pair\n",
    "        if type(response[key]) != dict and type(response[key]) != list:\n",
    "            # If the value is a timestamp, convert to mm-dd-yyyy hh:mm:ss format\n",
    "            # Assumes Unix datetime format\n",
    "            if 'time' in key:\n",
    "                from datetime import datetime\n",
    "                dt = int(response[key])\n",
    "                resp_key = datetime.utcfromtimestamp(dt).strftime('%m-%d-%Y %H:%M:%S')\n",
    "            else:\n",
    "                resp_key = response[key]\n",
    "            print('{}: {}'.format(key.title(), resp_key))\n",
    "        \n",
    "        # Use recursion if value is a list or dictionary   \n",
    "        elif type(response[key]) == list:\n",
    "            for item in response[key]:\n",
    "                print_response(item)\n",
    "        else:\n",
    "            print_response(response[key])\n",
    "\n",
    "print_response(response)"
   ]
  },
  {
   "cell_type": "markdown",
   "metadata": {},
   "source": [
    "### Check the next pass of International space station for a given location"
   ]
  },
  {
   "cell_type": "markdown",
   "metadata": {},
   "source": [
    "Let's repeat the above for the second endpoint `iss_pass.json`. This end point is used to query the next pass of the space station on a given location. Let's just run as above and record your observations"
   ]
  },
  {
   "cell_type": "code",
   "execution_count": 5,
   "metadata": {},
   "outputs": [
    {
     "name": "stdout",
     "output_type": "stream",
     "text": [
      "<Response [404]>\n"
     ]
    }
   ],
   "source": [
    "# You Code Here\n",
    "r = requests.get('http://api.open-notify.org/iss_pass.json')\n",
    "print(r)"
   ]
  },
  {
   "cell_type": "code",
   "execution_count": 6,
   "metadata": {},
   "outputs": [],
   "source": [
    "# Your comments "
   ]
  },
  {
   "cell_type": "markdown",
   "metadata": {},
   "source": [
    "So clearly there is something wrong as we had a 400 response. This is how you should always test your responses for validity. \n",
    "\n",
    "if we look at the documentation for the OpenNotify API, we see that the ISS Pass endpoint requires two parameters.\n",
    "\n",
    "> The ISS Pass endpoint returns when the ISS will next pass over a given location on earth. In order to compute this, we need to pass the coordinates of the location to the API. We do this by passing two parameters -- latitude and longitude.\n",
    "\n",
    "We can do this by adding an optional keyword argument, params, to our request. In this case, there are two parameters we need to pass:\n",
    "\n",
    "* lat -- The latitude of the location we want.\n",
    "* lon -- The longitude of the location we want.\n",
    "\n",
    "Perform the following tasks :\n",
    "* Set parameters to reflect the lat and long of New York  (40.71, -74)\n",
    "* Send a get request to OpenNotify passing in the lat long parameters as k:v pairs in a dictionary\n",
    "* Check the status code and interpret\n",
    "* Print the header information and the returned content"
   ]
  },
  {
   "cell_type": "code",
   "execution_count": 7,
   "metadata": {},
   "outputs": [
    {
     "name": "stdout",
     "output_type": "stream",
     "text": [
      "<Response [200]>\n",
      "{'message': 'success', 'request': {'altitude': 100, 'datetime': 1548087211, 'latitude': 40.7443, 'longitude': -73.9419, 'passes': 5}, 'response': [{'duration': 424, 'risetime': 1548109120}, {'duration': 641, 'risetime': 1548114765}, {'duration': 609, 'risetime': 1548120587}, {'duration': 552, 'risetime': 1548126462}, {'duration': 596, 'risetime': 1548132292}]}\n"
     ]
    }
   ],
   "source": [
    "# You Code Here\n",
    "params = {'lat': 40.7443, 'lon': -73.9419}\n",
    "r = requests.get('http://api.open-notify.org/iss-pass.json', params=params)\n",
    "print(r)\n",
    "response = r.json()\n",
    "print(response)"
   ]
  },
  {
   "cell_type": "code",
   "execution_count": 8,
   "metadata": {},
   "outputs": [
    {
     "name": "stdout",
     "output_type": "stream",
     "text": [
      "Message: success\n",
      "Altitude: 100\n",
      "Datetime: 01-21-2019 16:13:31\n",
      "Latitude: 40.7443\n",
      "Longitude: -73.9419\n",
      "Passes: 5\n",
      "Duration: 424\n",
      "Risetime: 01-21-2019 22:18:40\n",
      "Duration: 641\n",
      "Risetime: 01-21-2019 23:52:45\n",
      "Duration: 609\n",
      "Risetime: 01-22-2019 01:29:47\n",
      "Duration: 552\n",
      "Risetime: 01-22-2019 03:07:42\n",
      "Duration: 596\n",
      "Risetime: 01-22-2019 04:44:52\n"
     ]
    }
   ],
   "source": [
    "# Check the API and interpret your results - when will ISS pass over NEW York next ?\n",
    "print_response(response)"
   ]
  },
  {
   "cell_type": "markdown",
   "metadata": {},
   "source": [
    "### Finding the number of people in space\n",
    "\n",
    "OpenNotify has one more API endpoint, `/astros.json`. It tells you how many people are currently in space. The format of the responses can be studied [HERE](http://open-notify.org/Open-Notify-API/People-In-Space/).\n",
    "\n",
    "Read the above documentation and perform following tasks:\n",
    "\n",
    "* Get the response from astros.json endpoint\n",
    "* Count how many people are currently in space\n",
    "* List the names of people currently in space."
   ]
  },
  {
   "cell_type": "code",
   "execution_count": 9,
   "metadata": {},
   "outputs": [],
   "source": [
    "# You Code Here\n",
    "r = requests.get('http://api.open-notify.org/astros.json')"
   ]
  },
  {
   "cell_type": "code",
   "execution_count": 10,
   "metadata": {},
   "outputs": [
    {
     "name": "stdout",
     "output_type": "stream",
     "text": [
      "<Response [200]>\n",
      "Name: Oleg Kononenko\n",
      "Craft: ISS\n",
      "Name: David Saint-Jacques\n",
      "Craft: ISS\n",
      "Name: Anne McClain\n",
      "Craft: ISS\n",
      "Number: 3\n",
      "Message: success\n"
     ]
    }
   ],
   "source": [
    "print(r)\n",
    "response = r.json()\n",
    "print_response(response)"
   ]
  },
  {
   "cell_type": "markdown",
   "metadata": {},
   "source": [
    "There are 3 people in on the spacestation right now, and their names are Oleg Kononenko, David Saint-Jacques, and Anne McClain."
   ]
  },
  {
   "cell_type": "markdown",
   "metadata": {},
   "source": [
    "## Summary \n",
    "\n",
    "In this lesson we saw how we can use request and response methods to query an Open API. We also saw how to look at the contents returned with the API calls and how to parse them. Next we shall look at connecting to APIs which are not OPEN , i.e. we would need to paass in some authentication information and filter the results. "
   ]
  }
 ],
 "metadata": {
  "kernelspec": {
   "display_name": "Python 3",
   "language": "python",
   "name": "python3"
  },
  "language_info": {
   "codemirror_mode": {
    "name": "ipython",
    "version": 3
   },
   "file_extension": ".py",
   "mimetype": "text/x-python",
   "name": "python",
   "nbconvert_exporter": "python",
   "pygments_lexer": "ipython3",
   "version": "3.7.0"
  }
 },
 "nbformat": 4,
 "nbformat_minor": 2
}
